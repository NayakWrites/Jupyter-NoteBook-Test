{
 "cells": [
  {
   "cell_type": "markdown",
   "id": "7d89913d-ed30-482a-96e9-559c2741942f",
   "metadata": {},
   "source": [
    " ## Calculate the WER for Kathbath dataset"
   ]
  },
  {
   "cell_type": "code",
   "execution_count": 1,
   "id": "0ed5ad2e-f9ff-4843-a23b-4c35d2e426cb",
   "metadata": {},
   "outputs": [
    {
     "name": "stdout",
     "output_type": "stream",
     "text": [
      "Requirement already satisfied: pandas in c:\\users\\ranga\\appdata\\local\\programs\\python\\python312\\lib\\site-packages (2.2.2)\n",
      "Requirement already satisfied: numpy>=1.26.0 in c:\\users\\ranga\\appdata\\local\\programs\\python\\python312\\lib\\site-packages (from pandas) (1.26.4)\n",
      "Requirement already satisfied: python-dateutil>=2.8.2 in c:\\users\\ranga\\appdata\\local\\programs\\python\\python312\\lib\\site-packages (from pandas) (2.9.0.post0)\n",
      "Requirement already satisfied: pytz>=2020.1 in c:\\users\\ranga\\appdata\\local\\programs\\python\\python312\\lib\\site-packages (from pandas) (2024.1)\n",
      "Requirement already satisfied: tzdata>=2022.7 in c:\\users\\ranga\\appdata\\local\\programs\\python\\python312\\lib\\site-packages (from pandas) (2024.1)\n",
      "Requirement already satisfied: six>=1.5 in c:\\users\\ranga\\appdata\\local\\programs\\python\\python312\\lib\\site-packages (from python-dateutil>=2.8.2->pandas) (1.16.0)\n"
     ]
    }
   ],
   "source": [
    "!pip install pandas"
   ]
  },
  {
   "cell_type": "code",
   "execution_count": 2,
   "id": "d72c692e-da89-43c4-8614-bed314e260d7",
   "metadata": {},
   "outputs": [
    {
     "name": "stdout",
     "output_type": "stream",
     "text": [
      "Requirement already satisfied: numpy in c:\\users\\ranga\\appdata\\local\\programs\\python\\python312\\lib\\site-packages (1.26.4)\n"
     ]
    }
   ],
   "source": [
    "!pip install numpy"
   ]
  },
  {
   "cell_type": "code",
   "execution_count": 3,
   "id": "1bfa826a-1b2c-4a95-b873-34424193d8d6",
   "metadata": {},
   "outputs": [],
   "source": [
    "import pandas as pd\n",
    "import numpy as np"
   ]
  },
  {
   "cell_type": "code",
   "execution_count": 5,
   "id": "80389cb6-2de5-44cf-ba3c-216f1be3a34a",
   "metadata": {},
   "outputs": [
    {
     "name": "stdout",
     "output_type": "stream",
     "text": [
      "Requirement already satisfied: openai-whisper in c:\\users\\ranga\\appdata\\local\\programs\\python\\python312\\lib\\site-packages (20231117)\n",
      "Requirement already satisfied: numba in c:\\users\\ranga\\appdata\\local\\programs\\python\\python312\\lib\\site-packages (from openai-whisper) (0.59.1)\n",
      "Requirement already satisfied: numpy in c:\\users\\ranga\\appdata\\local\\programs\\python\\python312\\lib\\site-packages (from openai-whisper) (1.26.4)\n",
      "Requirement already satisfied: torch in c:\\users\\ranga\\appdata\\local\\programs\\python\\python312\\lib\\site-packages (from openai-whisper) (2.2.2)\n",
      "Requirement already satisfied: tqdm in c:\\users\\ranga\\appdata\\local\\programs\\python\\python312\\lib\\site-packages (from openai-whisper) (4.66.2)\n",
      "Requirement already satisfied: more-itertools in c:\\users\\ranga\\appdata\\local\\programs\\python\\python312\\lib\\site-packages (from openai-whisper) (10.2.0)\n",
      "Requirement already satisfied: tiktoken in c:\\users\\ranga\\appdata\\local\\programs\\python\\python312\\lib\\site-packages (from openai-whisper) (0.6.0)\n",
      "Requirement already satisfied: llvmlite<0.43,>=0.42.0dev0 in c:\\users\\ranga\\appdata\\local\\programs\\python\\python312\\lib\\site-packages (from numba->openai-whisper) (0.42.0)\n",
      "Requirement already satisfied: regex>=2022.1.18 in c:\\users\\ranga\\appdata\\local\\programs\\python\\python312\\lib\\site-packages (from tiktoken->openai-whisper) (2024.4.16)\n",
      "Requirement already satisfied: requests>=2.26.0 in c:\\users\\ranga\\appdata\\local\\programs\\python\\python312\\lib\\site-packages (from tiktoken->openai-whisper) (2.31.0)\n",
      "Requirement already satisfied: filelock in c:\\users\\ranga\\appdata\\local\\programs\\python\\python312\\lib\\site-packages (from torch->openai-whisper) (3.13.4)\n",
      "Requirement already satisfied: typing-extensions>=4.8.0 in c:\\users\\ranga\\appdata\\local\\programs\\python\\python312\\lib\\site-packages (from torch->openai-whisper) (4.11.0)\n",
      "Requirement already satisfied: sympy in c:\\users\\ranga\\appdata\\local\\programs\\python\\python312\\lib\\site-packages (from torch->openai-whisper) (1.12)\n",
      "Requirement already satisfied: networkx in c:\\users\\ranga\\appdata\\local\\programs\\python\\python312\\lib\\site-packages (from torch->openai-whisper) (3.3)\n",
      "Requirement already satisfied: jinja2 in c:\\users\\ranga\\appdata\\local\\programs\\python\\python312\\lib\\site-packages (from torch->openai-whisper) (3.1.3)\n",
      "Requirement already satisfied: fsspec in c:\\users\\ranga\\appdata\\local\\programs\\python\\python312\\lib\\site-packages (from torch->openai-whisper) (2024.3.1)\n",
      "Requirement already satisfied: colorama in c:\\users\\ranga\\appdata\\local\\programs\\python\\python312\\lib\\site-packages (from tqdm->openai-whisper) (0.4.6)\n",
      "Requirement already satisfied: charset-normalizer<4,>=2 in c:\\users\\ranga\\appdata\\local\\programs\\python\\python312\\lib\\site-packages (from requests>=2.26.0->tiktoken->openai-whisper) (3.3.2)\n",
      "Requirement already satisfied: idna<4,>=2.5 in c:\\users\\ranga\\appdata\\local\\programs\\python\\python312\\lib\\site-packages (from requests>=2.26.0->tiktoken->openai-whisper) (3.7)\n",
      "Requirement already satisfied: urllib3<3,>=1.21.1 in c:\\users\\ranga\\appdata\\local\\programs\\python\\python312\\lib\\site-packages (from requests>=2.26.0->tiktoken->openai-whisper) (2.2.1)\n",
      "Requirement already satisfied: certifi>=2017.4.17 in c:\\users\\ranga\\appdata\\local\\programs\\python\\python312\\lib\\site-packages (from requests>=2.26.0->tiktoken->openai-whisper) (2024.2.2)\n",
      "Requirement already satisfied: MarkupSafe>=2.0 in c:\\users\\ranga\\appdata\\local\\programs\\python\\python312\\lib\\site-packages (from jinja2->torch->openai-whisper) (2.1.5)\n",
      "Requirement already satisfied: mpmath>=0.19 in c:\\users\\ranga\\appdata\\local\\programs\\python\\python312\\lib\\site-packages (from sympy->torch->openai-whisper) (1.3.0)\n",
      "Note: you may need to restart the kernel to use updated packages.\n"
     ]
    }
   ],
   "source": [
    "pip install openai-whisper"
   ]
  },
  {
   "cell_type": "code",
   "execution_count": 10,
   "id": "c6113172-f932-4119-8ad0-828489d8176d",
   "metadata": {},
   "outputs": [
    {
     "name": "stdout",
     "output_type": "stream",
     "text": [
      " కోసమ్ పూర్తి పిండి సంచిలో చాలు మర్యు గంటలు జంటా కోసమ్ సుష్టిని ఫ్రిజ్యలో పంబుతుంది సిల్పకలా\n"
     ]
    }
   ],
   "source": [
    "import whisper\n",
    "\n",
    "audio_file =  whisper.load_audio(\"C:/Users/ranga/Downloads/kathbath/kathbath/telugu/test_known/audio/72/844424930361864-72-m.wav\")\n",
    "\n",
    "model = whisper.load_model(\"large\")\n",
    "result = model.transcribe(audio_file, language=\"te\")\n",
    "\n",
    "hypothesis = result[\"text\"]\n",
    "print(hypothesis)"
   ]
  },
  {
   "cell_type": "code",
   "execution_count": 11,
   "id": "3826ea60-b2c4-441d-957b-cc62054e122f",
   "metadata": {},
   "outputs": [
    {
     "name": "stdout",
     "output_type": "stream",
     "text": [
      "Requirement already satisfied: jiwer in c:\\users\\ranga\\appdata\\local\\programs\\python\\python312\\lib\\site-packages (3.0.3)\n",
      "Requirement already satisfied: click<9.0.0,>=8.1.3 in c:\\users\\ranga\\appdata\\local\\programs\\python\\python312\\lib\\site-packages (from jiwer) (8.1.7)\n",
      "Requirement already satisfied: rapidfuzz<4,>=3 in c:\\users\\ranga\\appdata\\local\\programs\\python\\python312\\lib\\site-packages (from jiwer) (3.8.1)\n",
      "Requirement already satisfied: colorama in c:\\users\\ranga\\appdata\\local\\programs\\python\\python312\\lib\\site-packages (from click<9.0.0,>=8.1.3->jiwer) (0.4.6)\n"
     ]
    }
   ],
   "source": [
    "!pip install jiwer"
   ]
  },
  {
   "cell_type": "code",
   "execution_count": 12,
   "id": "8e7a0f22-7cab-4058-b871-806e49eaaec4",
   "metadata": {},
   "outputs": [],
   "source": [
    "reference = \"\"\"కోసం పూర్తి పిండి సంచిలో చాలు మరియు గంటల జంట కోసం సృష్టిని ఫ్రిజ్ లో పంపుతుంది శిల్పకళ\"\"\""
   ]
  },
  {
   "cell_type": "code",
   "execution_count": 13,
   "id": "f806ad81-6468-4556-b8cd-e2426fb31aa6",
   "metadata": {},
   "outputs": [],
   "source": [
    "import jiwer\n",
    "\n",
    "\n",
    "transforms = jiwer.Compose(\n",
    "    [\n",
    "        jiwer.ExpandCommonEnglishContractions(),\n",
    "        jiwer.RemoveEmptyStrings(),\n",
    "        jiwer.ToLowerCase(),\n",
    "        jiwer.RemoveMultipleSpaces(),\n",
    "        jiwer.Strip(),\n",
    "        jiwer.RemovePunctuation(),\n",
    "        jiwer.ReduceToListOfListOfWords(),\n",
    "    ]\n",
    ")"
   ]
  },
  {
   "cell_type": "code",
   "execution_count": 14,
   "id": "4ad79e85-d6f9-48ef-8dd1-cb6f7030ec6e",
   "metadata": {},
   "outputs": [
    {
     "name": "stdout",
     "output_type": "stream",
     "text": [
      "Word Error Rate (WER) : 0.7142857142857143\n"
     ]
    }
   ],
   "source": [
    "wer = jiwer.wer(\n",
    "                reference,\n",
    "                hypothesis,\n",
    "                truth_transform=transforms,\n",
    "                hypothesis_transform=transforms,\n",
    "            )\n",
    "print(f\"Word Error Rate (WER) :\", wer)"
   ]
  },
  {
   "cell_type": "code",
   "execution_count": 46,
   "id": "56646beb-607a-4005-a7f1-cc15ff06ca9f",
   "metadata": {},
   "outputs": [
    {
     "data": {
      "text/html": [
       "<div>\n",
       "<style scoped>\n",
       "    .dataframe tbody tr th:only-of-type {\n",
       "        vertical-align: middle;\n",
       "    }\n",
       "\n",
       "    .dataframe tbody tr th {\n",
       "        vertical-align: top;\n",
       "    }\n",
       "\n",
       "    .dataframe thead th {\n",
       "        text-align: right;\n",
       "    }\n",
       "</style>\n",
       "<table border=\"1\" class=\"dataframe\">\n",
       "  <thead>\n",
       "    <tr style=\"text-align: right;\">\n",
       "      <th></th>\n",
       "      <th>file_path</th>\n",
       "      <th>transcript</th>\n",
       "      <th>length</th>\n",
       "    </tr>\n",
       "  </thead>\n",
       "  <tbody>\n",
       "    <tr>\n",
       "      <th>0</th>\n",
       "      <td>/nlsasfs/home/ai4bharat/gramesh/speechteam/e2e...</td>\n",
       "      <td>ఇదిలా ఉంటే ఆస్తుల నమోదుపై అనుమానాల్ని నివృత్తి...</td>\n",
       "      <td>163469</td>\n",
       "    </tr>\n",
       "    <tr>\n",
       "      <th>1</th>\n",
       "      <td>/nlsasfs/home/ai4bharat/gramesh/speechteam/e2e...</td>\n",
       "      <td>డేవిడ్ తో పాటూ అభికూడా వర్ణ కాలిని మట్టిలో నుం...</td>\n",
       "      <td>122230</td>\n",
       "    </tr>\n",
       "    <tr>\n",
       "      <th>2</th>\n",
       "      <td>/nlsasfs/home/ai4bharat/gramesh/speechteam/e2e...</td>\n",
       "      <td>అయితే వారి పిల్లలకు మాత్రం ఇక్కడే ఆశ్రయమిస్తామ...</td>\n",
       "      <td>86193</td>\n",
       "    </tr>\n",
       "    <tr>\n",
       "      <th>3</th>\n",
       "      <td>/nlsasfs/home/ai4bharat/gramesh/speechteam/e2e...</td>\n",
       "      <td>పగ వాళ్ళ బాణాలు బురుజులకి తగిలి వాన చినుకుల్లా...</td>\n",
       "      <td>71332</td>\n",
       "    </tr>\n",
       "    <tr>\n",
       "      <th>4</th>\n",
       "      <td>/nlsasfs/home/ai4bharat/gramesh/speechteam/e2e...</td>\n",
       "      <td>మరో ఆటగాడు కాశీ విశ్వనాథ్ ఇసుక క్వారీల్లో పని ...</td>\n",
       "      <td>84707</td>\n",
       "    </tr>\n",
       "    <tr>\n",
       "      <th>...</th>\n",
       "      <td>...</td>\n",
       "      <td>...</td>\n",
       "      <td>...</td>\n",
       "    </tr>\n",
       "    <tr>\n",
       "      <th>2405</th>\n",
       "      <td>/nlsasfs/home/ai4bharat/gramesh/speechteam/e2e...</td>\n",
       "      <td>వ్యవసాయ పనులు ఉండని రోజుల్లో మహిళలు కర్మాగారాల...</td>\n",
       "      <td>112199</td>\n",
       "    </tr>\n",
       "    <tr>\n",
       "      <th>2406</th>\n",
       "      <td>/nlsasfs/home/ai4bharat/gramesh/speechteam/e2e...</td>\n",
       "      <td>నారాయణమూర్తి పి ఎల్ నారాయణ ప్రధాన తారాగణంగా నట...</td>\n",
       "      <td>163469</td>\n",
       "    </tr>\n",
       "    <tr>\n",
       "      <th>2407</th>\n",
       "      <td>/nlsasfs/home/ai4bharat/gramesh/speechteam/e2e...</td>\n",
       "      <td>తాళపత్ర గ్రంథాలు వాటి విషయాలు బయటకు రాకుండా స్...</td>\n",
       "      <td>151580</td>\n",
       "    </tr>\n",
       "    <tr>\n",
       "      <th>2408</th>\n",
       "      <td>/nlsasfs/home/ai4bharat/gramesh/speechteam/e2e...</td>\n",
       "      <td>స్థానిక సాంప్రదాయం ప్రకారం మూడు సీజన్లు వర్షం ...</td>\n",
       "      <td>109970</td>\n",
       "    </tr>\n",
       "    <tr>\n",
       "      <th>2409</th>\n",
       "      <td>/nlsasfs/home/ai4bharat/gramesh/speechteam/e2e...</td>\n",
       "      <td>కొన్నిచోట్ల నగ్నంగా స్త్రీలను చెక్కినా గాని ధా...</td>\n",
       "      <td>146750</td>\n",
       "    </tr>\n",
       "  </tbody>\n",
       "</table>\n",
       "<p>2410 rows × 3 columns</p>\n",
       "</div>"
      ],
      "text/plain": [
       "                                              file_path  \\\n",
       "0     /nlsasfs/home/ai4bharat/gramesh/speechteam/e2e...   \n",
       "1     /nlsasfs/home/ai4bharat/gramesh/speechteam/e2e...   \n",
       "2     /nlsasfs/home/ai4bharat/gramesh/speechteam/e2e...   \n",
       "3     /nlsasfs/home/ai4bharat/gramesh/speechteam/e2e...   \n",
       "4     /nlsasfs/home/ai4bharat/gramesh/speechteam/e2e...   \n",
       "...                                                 ...   \n",
       "2405  /nlsasfs/home/ai4bharat/gramesh/speechteam/e2e...   \n",
       "2406  /nlsasfs/home/ai4bharat/gramesh/speechteam/e2e...   \n",
       "2407  /nlsasfs/home/ai4bharat/gramesh/speechteam/e2e...   \n",
       "2408  /nlsasfs/home/ai4bharat/gramesh/speechteam/e2e...   \n",
       "2409  /nlsasfs/home/ai4bharat/gramesh/speechteam/e2e...   \n",
       "\n",
       "                                             transcript  length  \n",
       "0     ఇదిలా ఉంటే ఆస్తుల నమోదుపై అనుమానాల్ని నివృత్తి...  163469  \n",
       "1     డేవిడ్ తో పాటూ అభికూడా వర్ణ కాలిని మట్టిలో నుం...  122230  \n",
       "2     అయితే వారి పిల్లలకు మాత్రం ఇక్కడే ఆశ్రయమిస్తామ...   86193  \n",
       "3     పగ వాళ్ళ బాణాలు బురుజులకి తగిలి వాన చినుకుల్లా...   71332  \n",
       "4     మరో ఆటగాడు కాశీ విశ్వనాథ్ ఇసుక క్వారీల్లో పని ...   84707  \n",
       "...                                                 ...     ...  \n",
       "2405  వ్యవసాయ పనులు ఉండని రోజుల్లో మహిళలు కర్మాగారాల...  112199  \n",
       "2406  నారాయణమూర్తి పి ఎల్ నారాయణ ప్రధాన తారాగణంగా నట...  163469  \n",
       "2407  తాళపత్ర గ్రంథాలు వాటి విషయాలు బయటకు రాకుండా స్...  151580  \n",
       "2408  స్థానిక సాంప్రదాయం ప్రకారం మూడు సీజన్లు వర్షం ...  109970  \n",
       "2409  కొన్నిచోట్ల నగ్నంగా స్త్రీలను చెక్కినా గాని ధా...  146750  \n",
       "\n",
       "[2410 rows x 3 columns]"
      ]
     },
     "execution_count": 46,
     "metadata": {},
     "output_type": "execute_result"
    }
   ],
   "source": [
    "data = pd.read_csv(\"C:/Users/ranga/Downloads/kathbath/kathbath/telugu/test_known/bucket.csv\")\n",
    "data"
   ]
  },
  {
   "cell_type": "code",
   "execution_count": null,
   "id": "d2109f54-8c61-4ba7-b638-51a900c7fbbd",
   "metadata": {},
   "outputs": [],
   "source": []
  }
 ],
 "metadata": {
  "kernelspec": {
   "display_name": "Python 3 (ipykernel)",
   "language": "python",
   "name": "python3"
  },
  "language_info": {
   "codemirror_mode": {
    "name": "ipython",
    "version": 3
   },
   "file_extension": ".py",
   "mimetype": "text/x-python",
   "name": "python",
   "nbconvert_exporter": "python",
   "pygments_lexer": "ipython3",
   "version": "3.12.3"
  }
 },
 "nbformat": 4,
 "nbformat_minor": 5
}
